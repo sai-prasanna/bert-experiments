{
 "nbformat": 4,
 "nbformat_minor": 2,
 "metadata": {
  "language_info": {
   "name": "python",
   "codemirror_mode": {
    "name": "ipython",
    "version": 3
   },
   "version": "3.7.7-final"
  },
  "orig_nbformat": 2,
  "file_extension": ".py",
  "mimetype": "text/x-python",
  "name": "python",
  "npconvert_exporter": "python",
  "pygments_lexer": "ipython3",
  "version": 3,
  "kernelspec": {
   "name": "python37764bit04702c7235a6448a9727054baaa32e98",
   "display_name": "Python 3.7.7 64-bit"
  }
 },
 "cells": [
  {
   "cell_type": "code",
   "execution_count": 8,
   "metadata": {},
   "outputs": [],
   "source": [
    "import json\n",
    "from collections import Counter\n",
    "import pathlib\n",
    "from scipy.stats import norm"
   ]
  },
  {
   "cell_type": "code",
   "execution_count": 44,
   "metadata": {
    "tags": [
     "outputPrepend"
    ]
   },
   "outputs": [],
   "source": [
    "def print_stats(results):\n",
    "    task_counters = {}\n",
    "    for task, seed_results in results.items():\n",
    "        if task == \"MNLI\":\n",
    "            task_counters[\"MNLI\"] = {}\n",
    "            task_counters[\"MNLI-mm\"] = {}\n",
    "        else:\n",
    "            task_counters[task] = {}\n",
    "        for seed, predictions in seed_results[\"predictions\"].items():\n",
    "            \n",
    "            if task == \"MNLI\":\n",
    "                task_counters[\"MNLI\"][seed] = Counter([p for p in predictions[\"mnli\"]])\n",
    "                task_counters[\"MNLI-mm\"][seed] = Counter([p for p in predictions[\"mnli-mm\"]])\n",
    "            elif task != \"STS-B\":\n",
    "                task_counters[task][seed] = Counter([p for p in predictions])\n",
    "            else:\n",
    "                task_counters[task][seed] = norm.fit(predictions)\n",
    "    for task in task_counters:\n",
    "        print(\"Task -\", task)\n",
    "        for seed in task_counters[task]:\n",
    "            print(\"Seed -\", seed)\n",
    "            if task != \"STS-B\":\n",
    "                print({k: v/sum(task_counters[task][seed].values()) for k,v in sorted(task_counters[task][seed].items())})\n",
    "            else:\n",
    "                print(task_counters[task][seed])"
   ]
  },
  {
   "cell_type": "code",
   "execution_count": 43,
   "metadata": {},
   "outputs": [],
   "source": [
    "experiments_path = pathlib.Path(\"../experiments\")\n",
    "\n",
    "path = experiments_path / \"randomize_components\" / \"baseline.json\"\n",
    "with path.open() as f:\n",
    "    baseline_results = json.load(f)\n",
    "\n",
    "path = experiments_path / \"randomize_components\" / \"randomize_qkv.json\"\n",
    "with path.open() as f:\n",
    "    qkv_results = json.load(f)\n",
    "\n",
    "path = experiments_path / \"randomize_components\" / \"randomize_embeddings.json\"\n",
    "with path.open() as f:\n",
    "    random_embedings_results = json.load(f)\n",
    "\n",
    "path = experiments_path / \"randomize_components\" / \"randomize_fc.json\"\n",
    "with path.open() as f:\n",
    "    fc_results = json.load(f)"
   ]
  },
  {
   "cell_type": "code",
   "execution_count": 45,
   "metadata": {},
   "outputs": [
    {
     "output_type": "stream",
     "name": "stdout",
     "text": "Task - CoLA\nSeed - seed_1337\n{'0': 0.20421860019175456, '1': 0.7957813998082455}\nSeed - seed_166\n{'0': 0.2080536912751678, '1': 0.7919463087248322}\nSeed - seed_42\n{'0': 0.20325982742090123, '1': 0.7967401725790988}\nSeed - seed_71\n{'0': 0.20901246404602108, '1': 0.7909875359539789}\nSeed - seed_86\n{'0': 0.20613614573346117, '1': 0.7938638542665388}\nTask - MNLI\nSeed - seed_1337\n{'contradiction': 0.33632195618950583, 'entailment': 0.3262353540499236, 'neutral': 0.33744268976057057}\nSeed - seed_166\n{'contradiction': 0.3319409067753439, 'entailment': 0.32929190015282733, 'neutral': 0.33876719307182884}\nSeed - seed_42\n{'contradiction': 0.3282730514518594, 'entailment': 0.33102394294447274, 'neutral': 0.34070300560366784}\nSeed - seed_71\n{'contradiction': 0.33224656138563424, 'entailment': 0.3344880285277636, 'neutral': 0.33326541008660215}\nSeed - seed_86\n{'contradiction': 0.3321446765155374, 'entailment': 0.3289862455425369, 'neutral': 0.3388690779419256}\nTask - MNLI-mm\nSeed - seed_1337\n{'contradiction': 0.3360455655004068, 'entailment': 0.33116354759967453, 'neutral': 0.33279088689991865}\nSeed - seed_166\n{'contradiction': 0.32516273393002443, 'entailment': 0.3381814483319772, 'neutral': 0.33665581773799835}\nSeed - seed_42\n{'contradiction': 0.3240439381611066, 'entailment': 0.3407241659886086, 'neutral': 0.3352318958502848}\nSeed - seed_71\n{'contradiction': 0.3242473555736371, 'entailment': 0.33899511798209925, 'neutral': 0.33675752644426366}\nSeed - seed_86\n{'contradiction': 0.3267900732302685, 'entailment': 0.3400122050447518, 'neutral': 0.33319772172497963}\nTask - MRPC\nSeed - seed_1337\n{'0': 0.22794117647058823, '1': 0.7720588235294118}\nSeed - seed_166\n{'0': 0.26715686274509803, '1': 0.7328431372549019}\nSeed - seed_42\n{'0': 0.24019607843137256, '1': 0.7598039215686274}\nSeed - seed_71\n{'0': 0.30637254901960786, '1': 0.6936274509803921}\nSeed - seed_86\n{'0': 0.27450980392156865, '1': 0.7254901960784313}\nTask - QNLI\nSeed - seed_1337\n{'entailment': 0.4986271279516749, 'not_entailment': 0.5013728720483251}\nSeed - seed_166\n{'entailment': 0.5017389712612118, 'not_entailment': 0.4982610287387882}\nSeed - seed_42\n{'entailment': 0.49807797913234486, 'not_entailment': 0.5019220208676551}\nSeed - seed_71\n{'entailment': 0.5033864177192019, 'not_entailment': 0.4966135822807981}\nSeed - seed_86\n{'entailment': 0.4966135822807981, 'not_entailment': 0.5033864177192019}\nTask - QQP\nSeed - seed_1337\n{'0': 0.6225327726935443, '1': 0.3774672273064556}\nSeed - seed_166\n{'0': 0.6238436804353203, '1': 0.3761563195646797}\nSeed - seed_42\n{'0': 0.6201335641850111, '1': 0.37986643581498886}\nSeed - seed_71\n{'0': 0.6240910215186742, '1': 0.37590897848132576}\nSeed - seed_86\n{'0': 0.6210239920850853, '1': 0.37897600791491465}\nTask - RTE\nSeed - seed_1337\n{'entailment': 0.6895306859205776, 'not_entailment': 0.3104693140794224}\nSeed - seed_166\n{'entailment': 0.6606498194945848, 'not_entailment': 0.33935018050541516}\nSeed - seed_42\n{'entailment': 0.5631768953068592, 'not_entailment': 0.4368231046931408}\nSeed - seed_71\n{'entailment': 0.6245487364620939, 'not_entailment': 0.37545126353790614}\nSeed - seed_86\n{'entailment': 0.592057761732852, 'not_entailment': 0.40794223826714804}\nTask - SST-2\nSeed - seed_1337\n{'0': 0.47477064220183485, '1': 0.5252293577981652}\nSeed - seed_166\n{'0': 0.48394495412844035, '1': 0.5160550458715596}\nSeed - seed_42\n{'0': 0.4873853211009174, '1': 0.5126146788990825}\nSeed - seed_71\n{'0': 0.4782110091743119, '1': 0.5217889908256881}\nSeed - seed_86\n{'0': 0.48394495412844035, '1': 0.5160550458715596}\nTask - STS-B\nSeed - seed_1337\n(2.4405348522410106, 1.4323102488595616)\nSeed - seed_166\n(2.4688102319484266, 1.457480325404685)\nSeed - seed_42\n(2.402360024934014, 1.425729344567376)\nSeed - seed_71\n(2.506520669393591, 1.4528756380854666)\nSeed - seed_86\n(2.5093068886150918, 1.4535894223293964)\nTask - WNLI\nSeed - seed_1337\n{'0': 0.4788732394366197, '1': 0.5211267605633803}\nSeed - seed_166\n{'0': 0.43661971830985913, '1': 0.5633802816901409}\nSeed - seed_42\n{'0': 0.647887323943662, '1': 0.352112676056338}\nSeed - seed_71\n{'0': 0.38028169014084506, '1': 0.6197183098591549}\nSeed - seed_86\n{'0': 0.6338028169014085, '1': 0.36619718309859156}\n"
    }
   ],
   "source": [
    "print_stats(baseline_results)"
   ]
  },
  {
   "cell_type": "code",
   "execution_count": 47,
   "metadata": {},
   "outputs": [
    {
     "output_type": "stream",
     "name": "stdout",
     "text": "Task - CoLA\nSeed - seed_1337\n{'0': 0.9357622243528284, '1': 0.06423777564717162}\nSeed - seed_166\n{'0': 0.975071907957814, '1': 0.024928092042186004}\nSeed - seed_42\n{'0': 0.04697986577181208, '1': 0.9530201342281879}\nSeed - seed_71\n{'0': 0.05752636625119847, '1': 0.9424736337488016}\nSeed - seed_86\n{'0': 0.6951102588686481, '1': 0.30488974113135187}\nTask - MNLI\nSeed - seed_1337\n{'contradiction': 0.004686704024452369, 'entailment': 0.9585328578706063, 'neutral': 0.036780438104941415}\nSeed - seed_166\n{'contradiction': 0.039836984207845136, 'entailment': 0.9413143148242485, 'neutral': 0.018848700967906265}\nSeed - seed_42\n{'contradiction': 0.6035659704533877, 'entailment': 0.378604177279674, 'neutral': 0.01782985226693836}\nSeed - seed_71\n{'contradiction': 0.1326541008660214, 'entailment': 0.5953132959755476, 'neutral': 0.272032603158431}\nSeed - seed_86\n{'contradiction': 0.16790626591951097, 'entailment': 0.8317880794701987, 'neutral': 0.0003056546102903719}\nTask - MNLI-mm\nSeed - seed_1337\n{'contradiction': 0.0034580960130187145, 'entailment': 0.9458909682668837, 'neutral': 0.05065093572009764}\nSeed - seed_166\n{'contradiction': 0.0435313262815297, 'entailment': 0.9339910496338486, 'neutral': 0.022477624084621645}\nSeed - seed_42\n{'contradiction': 0.629373474369406, 'entailment': 0.34896257119609436, 'neutral': 0.02166395443449959}\nSeed - seed_71\n{'contradiction': 0.1287632221318145, 'entailment': 0.5431244914564687, 'neutral': 0.32811228641171686}\nSeed - seed_86\n{'contradiction': 0.16425956061838892, 'entailment': 0.8356387306753458, 'neutral': 0.0001017087062652563}\nTask - MRPC\nSeed - seed_1337\n{'0': 1.0}\nSeed - seed_166\n{'0': 1.0}\nSeed - seed_42\n{'0': 1.0}\nSeed - seed_71\n{'0': 1.0}\nSeed - seed_86\n{'0': 1.0}\nTask - QNLI\nSeed - seed_1337\n{'entailment': 0.9388614314479223, 'not_entailment': 0.06113856855207761}\nSeed - seed_166\n{'entailment': 0.7999267801574227, 'not_entailment': 0.20007321984257734}\nSeed - seed_42\n{'entailment': 0.9610104338275672, 'not_entailment': 0.03898956617243273}\nSeed - seed_71\n{'entailment': 0.90536335346879, 'not_entailment': 0.09463664653120996}\nSeed - seed_86\n{'entailment': 0.9718103606077247, 'not_entailment': 0.028189639392275305}\nTask - QQP\nSeed - seed_1337\n{'0': 0.9246599060103883, '1': 0.07534009398961168}\nSeed - seed_166\n{'0': 0.9525105119960425, '1': 0.047489488003957456}\nSeed - seed_42\n{'0': 0.6168439277764036, '1': 0.3831560722235963}\nSeed - seed_71\n{'0': 0.8436557012119713, '1': 0.1563442987880287}\nSeed - seed_86\n{'0': 0.7000742023250062, '1': 0.29992579767499383}\nTask - RTE\nSeed - seed_1337\n{'entailment': 0.9819494584837545, 'not_entailment': 0.018050541516245487}\nSeed - seed_166\n{'not_entailment': 1.0}\nSeed - seed_42\n{'not_entailment': 1.0}\nSeed - seed_71\n{'entailment': 0.032490974729241874, 'not_entailment': 0.9675090252707581}\nSeed - seed_86\n{'not_entailment': 1.0}\nTask - SST-2\nSeed - seed_1337\n{'0': 0.8795871559633027, '1': 0.12041284403669725}\nSeed - seed_166\n{'0': 0.44036697247706424, '1': 0.5596330275229358}\nSeed - seed_42\n{'0': 0.22591743119266056, '1': 0.7740825688073395}\nSeed - seed_71\n{'0': 0.8864678899082569, '1': 0.11353211009174312}\nSeed - seed_86\n{'0': 0.8371559633027523, '1': 0.1628440366972477}\nTask - STS-B\nSeed - seed_1337\n(1.0358657868405183, 0.5386231727382329)\nSeed - seed_166\n(0.7780482481320699, 0.40124978442152176)\nSeed - seed_42\n(1.2828252234856288, 0.3186475430055029)\nSeed - seed_71\n(1.5665900322596231, 0.39802899430996447)\nSeed - seed_86\n(2.045510278026263, 0.5070162755500731)\nTask - WNLI\nSeed - seed_1337\n{'0': 1.0}\nSeed - seed_166\n{'0': 0.07042253521126761, '1': 0.9295774647887324}\nSeed - seed_42\n{'1': 1.0}\nSeed - seed_71\n{'0': 0.9859154929577465, '1': 0.014084507042253521}\nSeed - seed_86\n{'0': 0.6056338028169014, '1': 0.39436619718309857}\n"
    }
   ],
   "source": [
    "print_stats(random_embedings_results)"
   ]
  },
  {
   "cell_type": "code",
   "execution_count": 48,
   "metadata": {},
   "outputs": [
    {
     "output_type": "stream",
     "name": "stdout",
     "text": "Task - CoLA\nSeed - seed_1337\n{'0': 0.9904122722914669, '1': 0.009587727708533078}\nSeed - seed_166\n{'0': 0.7468839884947267, '1': 0.25311601150527324}\nSeed - seed_42\n{'1': 1.0}\nSeed - seed_71\n{'1': 1.0}\nSeed - seed_86\n{'0': 0.9913710450623202, '1': 0.00862895493767977}\nTask - MNLI\nSeed - seed_1337\n{'contradiction': 0.3143148242485991, 'entailment': 0.10585838003056545, 'neutral': 0.5798267957208355}\nSeed - seed_166\n{'contradiction': 0.10310748853795211, 'entailment': 0.5940906775343862, 'neutral': 0.30280183392766175}\nSeed - seed_42\n{'contradiction': 0.04737646459500764, 'entailment': 0.06184411614875191, 'neutral': 0.8907794192562405}\nSeed - seed_71\n{'contradiction': 0.06153846153846154, 'entailment': 0.6409577177789099, 'neutral': 0.29750382068262865}\nSeed - seed_86\n{'contradiction': 0.011512990320937342, 'entailment': 0.7600611309220581, 'neutral': 0.2284258787570046}\nTask - MNLI-mm\nSeed - seed_1337\n{'contradiction': 0.3077705451586656, 'entailment': 0.09733523189585029, 'neutral': 0.5948942229454841}\nSeed - seed_166\n{'contradiction': 0.09448738812042311, 'entailment': 0.5835028478437754, 'neutral': 0.32200976403580145}\nSeed - seed_42\n{'contradiction': 0.0428193653376729, 'entailment': 0.06427990235964198, 'neutral': 0.8929007323026851}\nSeed - seed_71\n{'contradiction': 0.051057770545158664, 'entailment': 0.6371033360455655, 'neutral': 0.31183889340927584}\nSeed - seed_86\n{'contradiction': 0.011289666395443449, 'entailment': 0.7649511798209927, 'neutral': 0.22375915378356387}\nTask - MRPC\nSeed - seed_1337\n{'0': 1.0}\nSeed - seed_166\n{'0': 0.9877450980392157, '1': 0.012254901960784314}\nSeed - seed_42\n{'0': 0.9975490196078431, '1': 0.0024509803921568627}\nSeed - seed_71\n{'0': 0.9705882352941176, '1': 0.029411764705882353}\nSeed - seed_86\n{'0': 1.0}\nTask - QNLI\nSeed - seed_1337\n{'entailment': 0.9553358960278235, 'not_entailment': 0.04466410397217646}\nSeed - seed_166\n{'entailment': 0.3823906278601501, 'not_entailment': 0.6176093721398499}\nSeed - seed_42\n{'entailment': 0.9416071755445726, 'not_entailment': 0.05839282445542742}\nSeed - seed_71\n{'entailment': 0.7539813289401428, 'not_entailment': 0.24601867105985722}\nSeed - seed_86\n{'entailment': 0.9765696503752517, 'not_entailment': 0.023430349624748308}\nTask - QQP\nSeed - seed_1337\n{'0': 0.9980212713331684, '1': 0.001978728666831561}\nSeed - seed_166\n{'0': 0.997427652733119, '1': 0.002572347266881029}\nSeed - seed_42\n{'0': 0.9998515953499877, '1': 0.00014840465001236705}\nSeed - seed_71\n{'0': 0.9949295077912441, '1': 0.005070492208755874}\nSeed - seed_86\n{'0': 0.9999505317833293, '1': 4.946821667078902e-05}\nTask - RTE\nSeed - seed_1337\n{'entailment': 0.9494584837545126, 'not_entailment': 0.05054151624548736}\nSeed - seed_166\n{'not_entailment': 1.0}\nSeed - seed_42\n{'not_entailment': 1.0}\nSeed - seed_71\n{'not_entailment': 1.0}\nSeed - seed_86\n{'entailment': 0.01444043321299639, 'not_entailment': 0.9855595667870036}\nTask - SST-2\nSeed - seed_1337\n{'0': 0.7752293577981652, '1': 0.22477064220183487}\nSeed - seed_166\n{'0': 0.23738532110091742, '1': 0.7626146788990825}\nSeed - seed_42\n{'0': 0.3130733944954128, '1': 0.6869266055045872}\nSeed - seed_71\n{'0': 0.3876146788990826, '1': 0.6123853211009175}\nSeed - seed_86\n{'0': 0.12729357798165136, '1': 0.8727064220183486}\nTask - STS-B\nSeed - seed_1337\n(0.6049546672602495, 0.14900373749100573)\nSeed - seed_166\n(0.37429233950578294, 0.36000992242481084)\nSeed - seed_42\n(0.5896987319986026, 0.09678247831823748)\nSeed - seed_71\n(1.6076286338965098, 0.12249740611037502)\nSeed - seed_86\n(0.7855413876771927, 0.12216512807216443)\nTask - WNLI\nSeed - seed_1337\n{'0': 1.0}\nSeed - seed_166\n{'0': 0.08450704225352113, '1': 0.9154929577464789}\nSeed - seed_42\n{'0': 0.014084507042253521, '1': 0.9859154929577465}\nSeed - seed_71\n{'0': 0.5774647887323944, '1': 0.4225352112676056}\nSeed - seed_86\n{'0': 1.0}\n"
    }
   ],
   "source": [
    "print_stats(qkv_results)"
   ]
  },
  {
   "cell_type": "code",
   "execution_count": 49,
   "metadata": {},
   "outputs": [
    {
     "output_type": "stream",
     "name": "stdout",
     "text": "Task - CoLA\nSeed - seed_1337\n{'0': 1.0}\nSeed - seed_166\n{'0': 0.4343240651965484, '1': 0.5656759348034516}\nSeed - seed_42\n{'1': 1.0}\nSeed - seed_71\n{'1': 1.0}\nSeed - seed_86\n{'0': 0.2607861936720997, '1': 0.7392138063279002}\nTask - MNLI\nSeed - seed_1337\n{'neutral': 1.0}\nSeed - seed_166\n{'contradiction': 0.00010188487009679063, 'neutral': 0.9998981151299032}\nSeed - seed_42\n{'contradiction': 0.00020376974019358125, 'neutral': 0.9997962302598065}\nSeed - seed_71\n{'contradiction': 0.0010188487009679063, 'neutral': 0.9989811512990321}\nSeed - seed_86\n{'neutral': 1.0}\nTask - MNLI-mm\nSeed - seed_1337\n{'neutral': 1.0}\nSeed - seed_166\n{'neutral': 1.0}\nSeed - seed_42\n{'neutral': 1.0}\nSeed - seed_71\n{'contradiction': 0.0007119609438567941, 'neutral': 0.9992880390561432}\nSeed - seed_86\n{'neutral': 1.0}\nTask - MRPC\nSeed - seed_1337\n{'0': 1.0}\nSeed - seed_166\n{'0': 1.0}\nSeed - seed_42\n{'1': 1.0}\nSeed - seed_71\n{'0': 1.0}\nSeed - seed_86\n{'0': 1.0}\nTask - QNLI\nSeed - seed_1337\n{'not_entailment': 1.0}\nSeed - seed_166\n{'not_entailment': 1.0}\nSeed - seed_42\n{'entailment': 0.08585026542192935, 'not_entailment': 0.9141497345780707}\nSeed - seed_71\n{'not_entailment': 1.0}\nSeed - seed_86\n{'entailment': 0.0805418268350723, 'not_entailment': 0.9194581731649277}\nTask - QQP\nSeed - seed_1337\n{'0': 1.0}\nSeed - seed_166\n{'0': 1.0}\nSeed - seed_42\n{'0': 1.0}\nSeed - seed_71\n{'0': 1.0}\nSeed - seed_86\n{'0': 1.0}\nTask - RTE\nSeed - seed_1337\n{'entailment': 0.4620938628158845, 'not_entailment': 0.5379061371841155}\nSeed - seed_166\n{'not_entailment': 1.0}\nSeed - seed_42\n{'not_entailment': 1.0}\nSeed - seed_71\n{'not_entailment': 1.0}\nSeed - seed_86\n{'not_entailment': 1.0}\nTask - SST-2\nSeed - seed_1337\n{'0': 1.0}\nSeed - seed_166\n{'1': 1.0}\nSeed - seed_42\n{'1': 1.0}\nSeed - seed_71\n{'0': 0.3646788990825688, '1': 0.6353211009174312}\nSeed - seed_86\n{'1': 1.0}\nTask - STS-B\nSeed - seed_1337\n(0.39534640628099443, 0.03252166234226278)\nSeed - seed_166\n(0.1767187764942646, 0.046871569025980275)\nSeed - seed_42\n(0.2974494025806586, 0.026180592392767273)\nSeed - seed_71\n(0.5974124509096146, 0.03074221813792289)\nSeed - seed_86\n(0.36266433842976886, 0.02218614226404168)\nTask - WNLI\nSeed - seed_1337\n{'0': 1.0}\nSeed - seed_166\n{'0': 0.6901408450704225, '1': 0.30985915492957744}\nSeed - seed_42\n{'1': 1.0}\nSeed - seed_71\n{'0': 1.0}\nSeed - seed_86\n{'0': 0.9014084507042254, '1': 0.09859154929577464}\n"
    }
   ],
   "source": [
    "print_stats(fc_results)"
   ]
  },
  {
   "cell_type": "code",
   "execution_count": null,
   "metadata": {},
   "outputs": [],
   "source": []
  }
 ]
}